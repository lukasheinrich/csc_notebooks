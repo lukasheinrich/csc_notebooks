{
 "cells": [
  {
   "cell_type": "code",
   "execution_count": 1,
   "id": "bff1891c",
   "metadata": {},
   "outputs": [],
   "source": [
    "import numpy as np\n",
    "import matplotlib.pyplot as plt\n",
    "import scipy.stats"
   ]
  },
  {
   "cell_type": "markdown",
   "id": "294969ed",
   "metadata": {},
   "source": [
    "# Exploring the Bias Variance Tradeoff\n",
    "\n",
    "\n",
    "## Step 1: Write a function `generate_data(N)` \n",
    "\n",
    "Write a function `generate_data(N)` that produces `N` samples from the following model\n",
    "\n",
    "$$\n",
    "p(s) = p(x,y) = p(y|x)p(x)\n",
    "$$\n",
    "\n",
    "with the following true\" underlying polynomial noisy model\n",
    "\n",
    "$$p(x) = \\mathrm{Uniform}(-1,1)$$\n",
    "$$p(y|x) = \\mathrm{Normal}(\\mu = f(x),\\sigma = 0.2)$$\n",
    "$$f(x) = \\sum_i p_i x^i$$,\n",
    "\n",
    "with $p_0 = -0.7, p_1 = 2.2, p_2 = 0.5, p_3 = 1.0$\n",
    "\n",
    "\n",
    "Hint: you can use `np.polyval` to evaluate a polynomial with a fixed set of coefficients (but watch out for the order)\n",
    "\n",
    "The function should return a array of `x` values and an array of `y` values"
   ]
  },
  {
   "cell_type": "code",
   "execution_count": null,
   "id": "7be58a90",
   "metadata": {},
   "outputs": [],
   "source": []
  },
  {
   "cell_type": "markdown",
   "id": "55ce736f",
   "metadata": {},
   "source": [
    "## Step 2: Plot Samples and Functions\n",
    "\n",
    "Write a function `plot(ax,train_x,train_y,p_trained,p_true)` that\n",
    "takes a matplotlib axis object and plots\n",
    "\n",
    "* plot the true function \n",
    "* plot a second (trained or random) function \n",
    "* plot the samples \n",
    "\n",
    "In the end you should be able to call it like this:\n",
    "\n",
    "```\n",
    "f = plt.figure()\n",
    "x,y = generate_data(10)\n",
    "plot(f.gca(),x,y,np.random.normal(size = (4,)), p_true)\n",
    "```"
   ]
  },
  {
   "cell_type": "code",
   "execution_count": null,
   "id": "60be21fa",
   "metadata": {},
   "outputs": [],
   "source": []
  },
  {
   "cell_type": "markdown",
   "id": "93b901b3",
   "metadata": {},
   "source": [
    "## Step 3\n",
    "\n",
    "One can show that given a Hypothesis Set of Polynomial functions\n",
    "\n",
    "$$f(x) = \\sum_i w_i x^i$$\n",
    "\n",
    "and a risk function of the following form\n",
    "\n",
    "$$l(s) = l(x,y) = (y - f(x))^2$$\n",
    "\n",
    "there is a closed form solution for finding the empirical risk minimization, where the best fit coefficients $\\vec{w}$ is given by\n",
    "\n",
    "$$\n",
    "w = (X^T X)^{-1} X^T y\n",
    "$$\n",
    "\n",
    "where $X$ is the matrix with rows $(x^0,x^1,x^2,x^3,\\dots,x^d)$ and one row for each sample\n",
    "\n",
    "$$\n",
    "X = \\left(\n",
    "\\begin{array}{}\n",
    "x_1^0,\\dots,x_1^d  \\\\\n",
    "x_2^0,\\dots,x_2^d  \\\\\n",
    "\\dots \\\\\n",
    "x_n^0,\\dots,x_n^d  \\\\\n",
    "\\end{array}\n",
    "\\right)\n",
    "$$\n",
    "\n",
    "* Write a function `learn(train_x, train_y, degree)` to return the $(d+1)$ optimal coefficients for a polynomial fit of degree $d$.\n",
    "* Fit a sampled of 5 data points with degree 4\n",
    "* Plot the Trained function together with the true function using the plotting method from the last step\n",
    "* Try this multiple time to get a feel for how much the data affects the fit\n",
    "* Try degree 1 and observe how the trained function is much less sensitive to the data"
   ]
  },
  {
   "cell_type": "code",
   "execution_count": null,
   "id": "5dbb6be6",
   "metadata": {},
   "outputs": [],
   "source": []
  },
  {
   "cell_type": "markdown",
   "id": "1417efa7",
   "metadata": {},
   "source": [
    "## Step 4\n",
    "\n",
    "Write a function to evaluate the risk or loss of a sample. Use our loss function for which we have the training procedure above\n",
    "\n",
    "$$\n",
    "l(s) = l(x,y) = (y - f(x))^2\n",
    "$$\n",
    "\n",
    "and right a function `risk(x,y_true, trained_coeffs)` to cmpute\n",
    "\n",
    "$$\n",
    "\\hat{L} = \\frac{1}{N}\\sum_i l(s_i) = \\frac{1}{N}\\sum_i l(x,y) = \\frac{1}{N}\\sum_i (y - f(x))^2\n",
    "$$\n",
    "\n",
    "* Draw a size 100 data sample and fit the result to obtain trained coefficients\n",
    "* Draw 10000 samples of size 10 and compute their empirical risk under the trained coefficients\n",
    "* Repeat the same but use the true coefficients of the underlying data-generating process\n",
    "* Histogram the two sets of 10,000 risk evaluations. Which one has lower average risk?"
   ]
  },
  {
   "cell_type": "code",
   "execution_count": null,
   "id": "1c90fac7",
   "metadata": {},
   "outputs": [],
   "source": []
  },
  {
   "cell_type": "markdown",
   "id": "66ec31c4",
   "metadata": {},
   "source": [
    "## Step 5\n",
    "\n",
    "Explore how the fit improves when adding more data. Plot the best fit model for data set sizes of \n",
    "\n",
    "$$N = 5,10,100,200,1000$$"
   ]
  },
  {
   "cell_type": "code",
   "execution_count": null,
   "id": "9a66df89",
   "metadata": {},
   "outputs": [],
   "source": []
  },
  {
   "cell_type": "markdown",
   "id": "97abd1da",
   "metadata": {},
   "source": [
    "## Step 6\n",
    "\n",
    "Explore how the fit changes when using more and more complex models. Plot the best fit model for degrees\n",
    "\n",
    "$$d = 1,2,5,10$$"
   ]
  },
  {
   "cell_type": "code",
   "execution_count": null,
   "id": "fd8a4e4a",
   "metadata": {},
   "outputs": [],
   "source": []
  },
  {
   "cell_type": "markdown",
   "id": "d20cfb13",
   "metadata": {},
   "source": [
    "## Step 7 Bias-Variance Tradeoff\n",
    "\n",
    "Draw two datasets:\n",
    "\n",
    "* A train dataset with $N=10$\n",
    "* A test dataset with $N=1000$\n",
    "\n",
    "Perform trainings on the train dataset for degrees $1\\dots8$ and store the training coefficients\n",
    "\n",
    "* Evaluate the risk under the various trainings for the train and the test dataset\n",
    "* Plot the train and test risk as a function of the polynomial degree"
   ]
  },
  {
   "cell_type": "code",
   "execution_count": null,
   "id": "887a3db0",
   "metadata": {},
   "outputs": [],
   "source": []
  }
 ],
 "metadata": {
  "kernelspec": {
   "display_name": "Python 3 (ipykernel)",
   "language": "python",
   "name": "python3"
  },
  "language_info": {
   "codemirror_mode": {
    "name": "ipython",
    "version": 3
   },
   "file_extension": ".py",
   "mimetype": "text/x-python",
   "name": "python",
   "nbconvert_exporter": "python",
   "pygments_lexer": "ipython3",
   "version": "3.9.11"
  }
 },
 "nbformat": 4,
 "nbformat_minor": 5
}
